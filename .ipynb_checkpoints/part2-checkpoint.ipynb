{
 "cells": [
  {
   "cell_type": "code",
   "execution_count": 1,
   "metadata": {
    "collapsed": true,
    "ExecuteTime": {
     "end_time": "2024-05-12T15:36:54.217102900Z",
     "start_time": "2024-05-12T15:36:52.652901100Z"
    }
   },
   "outputs": [
    {
     "ename": "ImportError",
     "evalue": "attempted relative import beyond top-level package",
     "output_type": "error",
     "traceback": [
      "\u001B[1;31m---------------------------------------------------------------------------\u001B[0m",
      "\u001B[1;31mImportError\u001B[0m                               Traceback (most recent call last)",
      "Cell \u001B[1;32mIn[1], line 3\u001B[0m\n\u001B[0;32m      1\u001B[0m \u001B[38;5;28;01mimport\u001B[39;00m \u001B[38;5;21;01mpydicom\u001B[39;00m\n\u001B[1;32m----> 3\u001B[0m \u001B[38;5;28;01mfrom\u001B[39;00m \u001B[38;5;21;01mdata_structures\u001B[39;00m\u001B[38;5;21;01m.\u001B[39;00m\u001B[38;5;21;01mct_image\u001B[39;00m \u001B[38;5;28;01mimport\u001B[39;00m CTImage\n",
      "File \u001B[1;32m~\\Desktop\\uib\\2nd_semester\\medical\\project\\medical-imaging-project\\data_structures\\ct_image.py:10\u001B[0m\n\u001B[0;32m      7\u001B[0m \u001B[38;5;28;01mimport\u001B[39;00m \u001B[38;5;21;01mmatplotlib\u001B[39;00m\u001B[38;5;21;01m.\u001B[39;00m\u001B[38;5;21;01mpyplot\u001B[39;00m \u001B[38;5;28;01mas\u001B[39;00m \u001B[38;5;21;01mplt\u001B[39;00m\n\u001B[0;32m      9\u001B[0m \u001B[38;5;28;01mfrom\u001B[39;00m \u001B[38;5;21;01m.\u001B[39;00m\u001B[38;5;21;01mct_slice\u001B[39;00m \u001B[38;5;28;01mimport\u001B[39;00m CTSlice\n\u001B[1;32m---> 10\u001B[0m \u001B[38;5;28;01mfrom\u001B[39;00m \u001B[38;5;21;01m.\u001B[39;00m\u001B[38;5;21;01m.\u001B[39;00m\u001B[38;5;21;01mutils\u001B[39;00m \u001B[38;5;28;01mimport\u001B[39;00m \u001B[38;5;241m*\u001B[39m\n\u001B[0;32m     13\u001B[0m \u001B[38;5;28;01mclass\u001B[39;00m \u001B[38;5;21;01mCTImage\u001B[39;00m:\n\u001B[0;32m     15\u001B[0m     \u001B[38;5;28;01mdef\u001B[39;00m \u001B[38;5;21m__init__\u001B[39m(\u001B[38;5;28mself\u001B[39m):\n",
      "\u001B[1;31mImportError\u001B[0m: attempted relative import beyond top-level package"
     ]
    }
   ],
   "source": [
    "import pydicom\n",
    "\n",
    "from data_structures.ct_image import CTImage"
   ]
  },
  {
   "cell_type": "code",
   "execution_count": null,
   "outputs": [],
   "source": [
    "reference_image_path = \"data_2/Project/icbm_avg_152_t1_tal_nlin_symmetric_VI.dcm\"\n",
    "patient_image_path = \"data_2/Project/RM_Brain_3D-SPGR/\""
   ],
   "metadata": {
    "collapsed": false
   }
  },
  {
   "cell_type": "code",
   "execution_count": null,
   "outputs": [],
   "source": [
    "reference_image = pydicom.dcmread(reference_image_path)\n",
    "reference_image.pixel_array.shape"
   ],
   "metadata": {
    "collapsed": false
   }
  },
  {
   "cell_type": "code",
   "execution_count": null,
   "outputs": [],
   "source": [
    "patient_image = CTImage()\n",
    "patient_image.load_data(patient_image_path)\n",
    "patient_image.visualize_all_projections()"
   ],
   "metadata": {
    "collapsed": false
   }
  },
  {
   "cell_type": "code",
   "execution_count": 5,
   "outputs": [
    {
     "name": "stdout",
     "output_type": "stream",
     "text": [
      "C:\\Users\\iulhaq\\Desktop\\uib\\2nd_semester\\medical\\project\\medical-imaging-project\n"
     ]
    }
   ],
   "source": [
    "import os\n",
    "print(os.getcwd())\n"
   ],
   "metadata": {
    "collapsed": false,
    "ExecuteTime": {
     "end_time": "2024-05-12T15:32:21.291263700Z",
     "start_time": "2024-05-12T15:32:21.237250900Z"
    }
   }
  },
  {
   "cell_type": "code",
   "execution_count": 6,
   "outputs": [
    {
     "name": "stdout",
     "output_type": "stream",
     "text": [
      "['C:\\\\Program Files\\\\JetBrains\\\\PyCharm 2023.1.1\\\\plugins\\\\python\\\\helpers-pro\\\\jupyter_debug', 'C:\\\\Program Files\\\\JetBrains\\\\PyCharm 2023.1.1\\\\plugins\\\\python\\\\helpers\\\\pydev', 'C:\\\\Users\\\\iulhaq\\\\Desktop\\\\uib\\\\2nd_semester\\\\medical\\\\project\\\\medical-imaging-project', 'C:\\\\Users\\\\iulhaq\\\\.pyenv\\\\pyenv-win\\\\versions\\\\3.9.13\\\\python39.zip', 'C:\\\\Users\\\\iulhaq\\\\.pyenv\\\\pyenv-win\\\\versions\\\\3.9.13\\\\DLLs', 'C:\\\\Users\\\\iulhaq\\\\.pyenv\\\\pyenv-win\\\\versions\\\\3.9.13\\\\lib', 'C:\\\\Users\\\\iulhaq\\\\.pyenv\\\\pyenv-win\\\\versions\\\\3.9.13', 'C:\\\\Users\\\\iulhaq\\\\Desktop\\\\uib\\\\2nd_semester\\\\medical\\\\project\\\\.med-proj', '', 'C:\\\\Users\\\\iulhaq\\\\Desktop\\\\uib\\\\2nd_semester\\\\medical\\\\project\\\\.med-proj\\\\lib\\\\site-packages', 'C:\\\\Users\\\\iulhaq\\\\Desktop\\\\uib\\\\2nd_semester\\\\medical\\\\project\\\\.med-proj\\\\lib\\\\site-packages\\\\win32', 'C:\\\\Users\\\\iulhaq\\\\Desktop\\\\uib\\\\2nd_semester\\\\medical\\\\project\\\\.med-proj\\\\lib\\\\site-packages\\\\win32\\\\lib', 'C:\\\\Users\\\\iulhaq\\\\Desktop\\\\uib\\\\2nd_semester\\\\medical\\\\project\\\\.med-proj\\\\lib\\\\site-packages\\\\Pythonwin']\n"
     ]
    }
   ],
   "source": [
    "import sys\n",
    "print(sys.path)"
   ],
   "metadata": {
    "collapsed": false,
    "ExecuteTime": {
     "end_time": "2024-05-12T15:33:01.420320200Z",
     "start_time": "2024-05-12T15:33:01.375745Z"
    }
   }
  },
  {
   "cell_type": "code",
   "execution_count": 7,
   "outputs": [],
   "source": [
    "import sys\n",
    "sys.path.append(\"C:\\\\Users\\\\iulhaq\\\\Desktop\\\\uib\\\\2nd_semester\\\\medical\\\\project\\\\medical-imaging-project\")"
   ],
   "metadata": {
    "collapsed": false,
    "ExecuteTime": {
     "end_time": "2024-05-12T15:34:32.133209800Z",
     "start_time": "2024-05-12T15:34:32.098704600Z"
    }
   }
  },
  {
   "cell_type": "code",
   "execution_count": null,
   "outputs": [],
   "source": [],
   "metadata": {
    "collapsed": false
   }
  }
 ],
 "metadata": {
  "kernelspec": {
   "display_name": "Python 3",
   "language": "python",
   "name": "python3"
  },
  "language_info": {
   "codemirror_mode": {
    "name": "ipython",
    "version": 2
   },
   "file_extension": ".py",
   "mimetype": "text/x-python",
   "name": "python",
   "nbconvert_exporter": "python",
   "pygments_lexer": "ipython2",
   "version": "2.7.6"
  }
 },
 "nbformat": 4,
 "nbformat_minor": 0
}

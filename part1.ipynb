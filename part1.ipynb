{
 "cells": [
  {
   "cell_type": "code",
   "execution_count": 1,
   "metadata": {
    "collapsed": true,
    "ExecuteTime": {
     "end_time": "2024-05-12T15:24:06.961356400Z",
     "start_time": "2024-05-12T15:24:05.980460500Z"
    }
   },
   "outputs": [],
   "source": [
    "import os\n",
    "import pydicom\n",
    "import matplotlib.cm as cm\n",
    "from matplotlib import animation\n",
    "from tqdm import tqdm\n",
    "import matplotlib.patches as mpatches\n",
    "\n",
    "from utils import *"
   ]
  },
  {
   "cell_type": "code",
   "execution_count": 2,
   "outputs": [
    {
     "name": "stdout",
     "output_type": "stream",
     "text": [
      "C:\\Users\\iulhaq\\Desktop\\uib\\2nd_semester\\medical\\project\\medical-imaging-project\n"
     ]
    }
   ],
   "source": [
    "import os\n",
    "print(os.getcwd())\n"
   ],
   "metadata": {
    "collapsed": false,
    "ExecuteTime": {
     "end_time": "2024-05-12T15:24:06.978232300Z",
     "start_time": "2024-05-12T15:24:06.963358200Z"
    }
   }
  },
  {
   "cell_type": "code",
   "execution_count": 3,
   "outputs": [],
   "source": [
    "ct_images_path = \"data_1/manifest-1715269027871-20240509T164701Z-001/manifest-1715269027871/HCC-TACE-Seg/HCC_013/08-16-1998-NA-ABDPELVIS-02874/5.000000-Recon 3 LIVER 3 PHASE AP-81040\"\n",
    "segmentation_image_path = \"data_1/manifest-1715269027871-20240509T164701Z-001/manifest-1715269027871/HCC-TACE-Seg/HCC_013/08-16-1998-NA-ABDPELVIS-02874/300.000000-Segmentation-69940/1-1.dcm\""
   ],
   "metadata": {
    "collapsed": false,
    "ExecuteTime": {
     "end_time": "2024-05-12T15:24:07.021074800Z",
     "start_time": "2024-05-12T15:24:06.980233600Z"
    }
   }
  },
  {
   "cell_type": "code",
   "execution_count": 4,
   "outputs": [
    {
     "name": "stdout",
     "output_type": "stream",
     "text": [
      "(512, 512)\n",
      "Dataset.file_meta -------------------------------\n",
      "(0002, 0000) File Meta Information Group Length  UL: 206\n",
      "(0002, 0001) File Meta Information Version       OB: b'\\x00\\x01'\n",
      "(0002, 0002) Media Storage SOP Class UID         UI: CT Image Storage\n",
      "(0002, 0003) Media Storage SOP Instance UID      UI: 1.3.6.1.4.1.14519.5.2.1.1706.8374.107712825881298838417299248086\n",
      "(0002, 0010) Transfer Syntax UID                 UI: Explicit VR Little Endian\n",
      "(0002, 0012) Implementation Class UID            UI: 1.3.6.1.4.1.22213.1.143\n",
      "(0002, 0013) Implementation Version Name         SH: '0.5'\n",
      "(0002, 0016) Source Application Entity Title     AE: 'POSDA'\n",
      "-------------------------------------------------\n",
      "(0008, 0005) Specific Character Set              CS: 'ISO_IR 100'\n",
      "(0008, 0008) Image Type                          CS: ['ORIGINAL', 'PRIMARY', 'AXIAL']\n",
      "(0008, 0013) Instance Creation Time              TM: '171529'\n",
      "(0008, 0016) SOP Class UID                       UI: CT Image Storage\n",
      "(0008, 0018) SOP Instance UID                    UI: 1.3.6.1.4.1.14519.5.2.1.1706.8374.107712825881298838417299248086\n",
      "(0008, 0020) Study Date                          DA: '19980816'\n",
      "(0008, 0023) Content Date                        DA: '19980816'\n",
      "(0008, 0030) Study Time                          TM: ''\n",
      "(0008, 0033) Content Time                        TM: ''\n",
      "(0008, 0050) Accession Number                    SH: ''\n",
      "(0008, 0060) Modality                            CS: 'CT'\n",
      "(0008, 0070) Manufacturer                        LO: ''\n",
      "(0008, 0090) Referring Physician's Name          PN: ''\n",
      "(0008, 1030) Study Description                   LO: 'ABD/PELVIS'\n",
      "(0008, 1032)  Procedure Code Sequence  1 item(s) ---- \n",
      "   (0008, 0100) Code Value                          SH: '6500572'\n",
      "   (0008, 0104) Code Meaning                        LO: 'CT, ABDOMEN W&W/O CONTRAST'\n",
      "   ---------\n",
      "(0008, 103e) Series Description                  LO: 'Recon 3: LIVER 3 PHASE (AP)'\n",
      "(0010, 0010) Patient's Name                      PN: 'HCC_013'\n",
      "(0010, 0020) Patient ID                          LO: 'HCC_013'\n",
      "(0010, 0030) Patient's Birth Date                DA: ''\n",
      "(0010, 0040) Patient's Sex                       CS: ''\n",
      "(0012, 0050) Clinical Trial Time Point ID        LO: '1'\n",
      "(0012, 0051) Clinical Trial Time Point Descripti ST: 'Days offset from diagnosis'\n",
      "(0012, 0052) Longitudinal Temporal Offset from E FD: 1.0\n",
      "(0012, 0053) Longitudinal Temporal Event Type    CS: 'DIAGNOSIS'\n",
      "(0012, 0062) Patient Identity Removed            CS: 'YES'\n",
      "(0012, 0063) De-identification Method            LO: 'Per DICOM PS 3.15 AnnexE. Details in 0012,0064'\n",
      "(0012, 0064)  De-identification Method Code Sequence  8 item(s) ---- \n",
      "   (0008, 0100) Code Value                          SH: '113100'\n",
      "   (0008, 0102) Coding Scheme Designator            SH: 'DCM'\n",
      "   (0008, 0104) Code Meaning                        LO: 'Basic Application Confidentiality Profile'\n",
      "   ---------\n",
      "   (0008, 0100) Code Value                          SH: '113101'\n",
      "   (0008, 0102) Coding Scheme Designator            SH: 'DCM'\n",
      "   (0008, 0104) Code Meaning                        LO: 'Clean Pixel Data Option'\n",
      "   ---------\n",
      "   (0008, 0100) Code Value                          SH: '113104'\n",
      "   (0008, 0102) Coding Scheme Designator            SH: 'DCM'\n",
      "   (0008, 0104) Code Meaning                        LO: 'Clean Structured Content Option'\n",
      "   ---------\n",
      "   (0008, 0100) Code Value                          SH: '113105'\n",
      "   (0008, 0102) Coding Scheme Designator            SH: 'DCM'\n",
      "   (0008, 0104) Code Meaning                        LO: 'Clean Descriptors Option'\n",
      "   ---------\n",
      "   (0008, 0100) Code Value                          SH: '113107'\n",
      "   (0008, 0102) Coding Scheme Designator            SH: 'DCM'\n",
      "   (0008, 0104) Code Meaning                        LO: 'Retain Longitudinal Temporal Information Modified Dates Option'\n",
      "   ---------\n",
      "   (0008, 0100) Code Value                          SH: '113108'\n",
      "   (0008, 0102) Coding Scheme Designator            SH: 'DCM'\n",
      "   (0008, 0104) Code Meaning                        LO: 'Retain Patient Characteristics Option'\n",
      "   ---------\n",
      "   (0008, 0100) Code Value                          SH: '113109'\n",
      "   (0008, 0102) Coding Scheme Designator            SH: 'DCM'\n",
      "   (0008, 0104) Code Meaning                        LO: 'Retain Device Identity Option'\n",
      "   ---------\n",
      "   (0008, 0100) Code Value                          SH: '113111'\n",
      "   (0008, 0102) Coding Scheme Designator            SH: 'DCM'\n",
      "   (0008, 0104) Code Meaning                        LO: 'Retain Safe Private Option'\n",
      "   ---------\n",
      "(0013, 0010) Private Creator                     LO: 'CTP'\n",
      "(0013, 1010) Private tag data                    LO: 'HCC-TACE-Seg'\n",
      "(0013, 1013) Private tag data                    LO: '17068374'\n",
      "(0018, 0010) Contrast/Bolus Agent                LO: ''\n",
      "(0018, 0015) Body Part Examined                  CS: 'LIVER'\n",
      "(0018, 0022) Scan Options                        CS: 'HELICAL MODE'\n",
      "(0018, 0050) Slice Thickness                     DS: '2.5'\n",
      "(0018, 0060) KVP                                 DS: '120.0'\n",
      "(0018, 0090) Data Collection Diameter            DS: '500.0'\n",
      "(0018, 1040) Contrast/Bolus Route                LO: 'Oral & IV'\n",
      "(0018, 1100) Reconstruction Diameter             DS: '380.0'\n",
      "(0018, 1110) Distance Source to Detector         DS: '949.075012'\n",
      "(0018, 1111) Distance Source to Patient          DS: '541.0'\n",
      "(0018, 1120) Gantry/Detector Tilt                DS: '0.0'\n",
      "(0018, 1130) Table Height                        DS: '172.0'\n",
      "(0018, 1140) Rotation Direction                  CS: 'CW'\n",
      "(0018, 1150) Exposure Time                       IS: '912'\n",
      "(0018, 1151) X-Ray Tube Current                  IS: '320'\n",
      "(0018, 1152) Exposure                            IS: '3775'\n",
      "(0018, 1160) Filter Type                         SH: 'BODY FILTER'\n",
      "(0018, 1170) Generator Power                     IS: '38400'\n",
      "(0018, 1190) Focal Spot(s)                       DS: '1.2'\n",
      "(0018, 1210) Convolution Kernel                  SH: 'STANDARD'\n",
      "(0018, 5100) Patient Position                    CS: 'FFS'\n",
      "(0020, 000d) Study Instance UID                  UI: 1.3.6.1.4.1.14519.5.2.1.1706.8374.105041044715379537407109902874\n",
      "(0020, 000e) Series Instance UID                 UI: 1.3.6.1.4.1.14519.5.2.1.1706.8374.489872120073574349734745881040\n",
      "(0020, 0010) Study ID                            SH: ''\n",
      "(0020, 0011) Series Number                       IS: '5'\n",
      "(0020, 0012) Acquisition Number                  IS: '2'\n",
      "(0020, 0013) Instance Number                     IS: '1'\n",
      "(0020, 0032) Image Position (Patient)            DS: [-209.699997, -190.000000, -48.000000]\n",
      "(0020, 0037) Image Orientation (Patient)         DS: [1.000000, 0.000000, 0.000000, 0.000000, 1.000000, 0.000000]\n",
      "(0020, 0052) Frame of Reference UID              UI: 1.3.6.1.4.1.14519.5.2.1.1706.8374.465572299146637992470421032683\n",
      "(0020, 1040) Position Reference Indicator        LO: 'XY'\n",
      "(0020, 1041) Slice Location                      DS: '-48.0'\n",
      "(0028, 0002) Samples per Pixel                   US: 1\n",
      "(0028, 0004) Photometric Interpretation          CS: 'MONOCHROME2'\n",
      "(0028, 0010) Rows                                US: 512\n",
      "(0028, 0011) Columns                             US: 512\n",
      "(0028, 0030) Pixel Spacing                       DS: [0.742188, 0.742188]\n",
      "(0028, 0100) Bits Allocated                      US: 16\n",
      "(0028, 0101) Bits Stored                         US: 16\n",
      "(0028, 0102) High Bit                            US: 15\n",
      "(0028, 0103) Pixel Representation                US: 1\n",
      "(0028, 0120) Pixel Padding Value                 US: 63536\n",
      "(0028, 0303) Longitudinal Temporal Information M CS: 'MODIFIED'\n",
      "(0028, 1050) Window Center                       DS: '40.0'\n",
      "(0028, 1051) Window Width                        DS: '400.0'\n",
      "(0028, 1052) Rescale Intercept                   DS: '0.0'\n",
      "(0028, 1053) Rescale Slope                       DS: '1.0'\n",
      "(0040, 0245) Performed Procedure Step Start Time TM: '170339'\n",
      "(7fe0, 0010) Pixel Data                          OW: Array of 524288 elements\n",
      "[[-1024 -1024 -1024 ... -1024 -1024 -1024]\n",
      " [-1024 -1024 -1024 ... -1024 -1024 -1024]\n",
      " [-1024 -1024 -1024 ... -1024 -1024 -1024]\n",
      " ...\n",
      " [-1024 -1024 -1024 ... -1024 -1024 -1024]\n",
      " [-1024 -1024 -1024 ... -1024 -1024 -1024]\n",
      " [-1024 -1024 -1024 ... -1024 -1024 -1024]]\n"
     ]
    }
   ],
   "source": [
    "image_path = os.path.join(ct_images_path, os.listdir(ct_images_path)[0])\n",
    "image = pydicom.dcmread(image_path)\n",
    "print(image.pixel_array.shape)\n",
    "print(image)\n",
    "print(image.pixel_array)"
   ],
   "metadata": {
    "collapsed": false,
    "ExecuteTime": {
     "end_time": "2024-05-12T15:24:07.037171600Z",
     "start_time": "2024-05-12T15:24:06.995917900Z"
    }
   }
  },
  {
   "cell_type": "code",
   "execution_count": 5,
   "outputs": [
    {
     "data": {
      "text/plain": "(324, 512, 512)"
     },
     "execution_count": 5,
     "metadata": {},
     "output_type": "execute_result"
    }
   ],
   "source": [
    "segmentation = pydicom.dcmread(segmentation_image_path)\n",
    "segmentation.pixel_array.shape"
   ],
   "metadata": {
    "collapsed": false,
    "ExecuteTime": {
     "end_time": "2024-05-12T15:24:07.321621800Z",
     "start_time": "2024-05-12T15:24:07.028059500Z"
    }
   }
  },
  {
   "cell_type": "code",
   "execution_count": 6,
   "outputs": [
    {
     "name": "stdout",
     "output_type": "stream",
     "text": [
      "1.3.6.1.4.1.14519.5.2.1.1706.8374.172741934018661566763726681611\n"
     ]
    }
   ],
   "source": [
    "frames = segmentation.PerFrameFunctionalGroupsSequence\n",
    "print(frames[0].DerivationImageSequence[0].SourceImageSequence[0].ReferencedSOPInstanceUID)\n"
   ],
   "metadata": {
    "collapsed": false,
    "ExecuteTime": {
     "end_time": "2024-05-12T15:24:07.395171600Z",
     "start_time": "2024-05-12T15:24:07.326409500Z"
    }
   }
  },
  {
   "cell_type": "code",
   "execution_count": 7,
   "outputs": [
    {
     "ename": "ImportError",
     "evalue": "attempted relative import beyond top-level package",
     "output_type": "error",
     "traceback": [
      "\u001B[1;31m---------------------------------------------------------------------------\u001B[0m",
      "\u001B[1;31mImportError\u001B[0m                               Traceback (most recent call last)",
      "Cell \u001B[1;32mIn[7], line 1\u001B[0m\n\u001B[1;32m----> 1\u001B[0m \u001B[38;5;28;01mfrom\u001B[39;00m \u001B[38;5;21;01mdata_structures\u001B[39;00m\u001B[38;5;21;01m.\u001B[39;00m\u001B[38;5;21;01mct_image\u001B[39;00m \u001B[38;5;28;01mimport\u001B[39;00m CTImage\n\u001B[0;32m      2\u001B[0m \u001B[38;5;28;01mfrom\u001B[39;00m \u001B[38;5;21;01mdata_structures\u001B[39;00m\u001B[38;5;21;01m.\u001B[39;00m\u001B[38;5;21;01msegmentation_image\u001B[39;00m \u001B[38;5;28;01mimport\u001B[39;00m SegmentationImage\n\u001B[0;32m      3\u001B[0m \u001B[38;5;28;01mfrom\u001B[39;00m \u001B[38;5;21;01mdata_structures\u001B[39;00m\u001B[38;5;21;01m.\u001B[39;00m\u001B[38;5;21;01mmapping\u001B[39;00m \u001B[38;5;28;01mimport\u001B[39;00m CTMapping\n",
      "File \u001B[1;32m~\\Desktop\\uib\\2nd_semester\\medical\\project\\medical-imaging-project\\data_structures\\ct_image.py:10\u001B[0m\n\u001B[0;32m      7\u001B[0m \u001B[38;5;28;01mimport\u001B[39;00m \u001B[38;5;21;01mmatplotlib\u001B[39;00m\u001B[38;5;21;01m.\u001B[39;00m\u001B[38;5;21;01mpyplot\u001B[39;00m \u001B[38;5;28;01mas\u001B[39;00m \u001B[38;5;21;01mplt\u001B[39;00m\n\u001B[0;32m      9\u001B[0m \u001B[38;5;28;01mfrom\u001B[39;00m \u001B[38;5;21;01m.\u001B[39;00m\u001B[38;5;21;01mct_slice\u001B[39;00m \u001B[38;5;28;01mimport\u001B[39;00m CTSlice\n\u001B[1;32m---> 10\u001B[0m \u001B[38;5;28;01mfrom\u001B[39;00m \u001B[38;5;21;01m.\u001B[39;00m\u001B[38;5;21;01m.\u001B[39;00m\u001B[38;5;21;01mutils\u001B[39;00m \u001B[38;5;28;01mimport\u001B[39;00m \u001B[38;5;241m*\u001B[39m\n\u001B[0;32m     13\u001B[0m \u001B[38;5;28;01mclass\u001B[39;00m \u001B[38;5;21;01mCTImage\u001B[39;00m:\n\u001B[0;32m     15\u001B[0m     \u001B[38;5;28;01mdef\u001B[39;00m \u001B[38;5;21m__init__\u001B[39m(\u001B[38;5;28mself\u001B[39m):\n",
      "\u001B[1;31mImportError\u001B[0m: attempted relative import beyond top-level package"
     ]
    }
   ],
   "source": [
    "from data_structures.ct_image import CTImage\n",
    "from data_structures.segmentation_image import SegmentationImage\n",
    "from data_structures.mapping import CTMapping"
   ],
   "metadata": {
    "collapsed": false,
    "ExecuteTime": {
     "end_time": "2024-05-12T15:24:07.868947900Z",
     "start_time": "2024-05-12T15:24:07.339871500Z"
    }
   }
  },
  {
   "cell_type": "code",
   "execution_count": null,
   "outputs": [],
   "source": [
    "ct_image = CTImage()\n",
    "ct_image.load_data(ct_images_path)\n",
    "len(ct_image.slices)"
   ],
   "metadata": {
    "collapsed": false
   }
  },
  {
   "cell_type": "code",
   "execution_count": null,
   "outputs": [],
   "source": [
    "seg_image = SegmentationImage()\n",
    "seg_image.load_data(segmentation_image_path)"
   ],
   "metadata": {
    "collapsed": false
   }
  },
  {
   "cell_type": "code",
   "execution_count": null,
   "outputs": [],
   "source": [
    "mapping = CTMapping(ct_image, seg_image)\n",
    "mapping.do_mapping()\n",
    "\n",
    "for map in mapping.mappings:\n",
    "    print(map[0].slice_location, map[0].sop_instance_uid, map[1].sop_instance_uid)\n"
   ],
   "metadata": {
    "collapsed": false
   }
  },
  {
   "cell_type": "code",
   "execution_count": null,
   "outputs": [],
   "source": [
    "mapping.image.shape"
   ],
   "metadata": {
    "collapsed": false
   }
  },
  {
   "cell_type": "code",
   "execution_count": null,
   "outputs": [],
   "source": [
    "mapping.segmentations[3].shape"
   ],
   "metadata": {
    "collapsed": false
   }
  },
  {
   "cell_type": "code",
   "execution_count": null,
   "outputs": [],
   "source": [
    "mapping.plot_image_slice(40, axis=0)"
   ],
   "metadata": {
    "collapsed": false
   }
  },
  {
   "cell_type": "code",
   "execution_count": null,
   "outputs": [],
   "source": [
    "mapping.plot_image_slice_with_segments(35)"
   ],
   "metadata": {
    "collapsed": false
   }
  },
  {
   "cell_type": "code",
   "execution_count": null,
   "outputs": [],
   "source": [
    "mapping.plot_image_slice_with_segments(40)"
   ],
   "metadata": {
    "collapsed": false
   }
  },
  {
   "cell_type": "code",
   "execution_count": null,
   "outputs": [],
   "source": [
    "mapping.plot_image_slice_with_segments(25)"
   ],
   "metadata": {
    "collapsed": false
   }
  },
  {
   "cell_type": "code",
   "execution_count": null,
   "outputs": [],
   "source": [
    "visualize_alpha_fusion(mapping.image[40], mapping.segmentations[0][40], alpha=0.2)"
   ],
   "metadata": {
    "collapsed": false
   }
  },
  {
   "cell_type": "code",
   "execution_count": null,
   "outputs": [],
   "source": [
    "visualize_alpha_fusion(MIP_sagittal_plane(mapping.image), MIP_sagittal_plane(mapping.segmentations[1]), alpha=0.2, aspect=3, visualize=True)"
   ],
   "metadata": {
    "collapsed": false
   }
  },
  {
   "cell_type": "code",
   "execution_count": null,
   "outputs": [],
   "source": [
    "index=25\n",
    "visualize_alpha_fusion(mapping.image[index], mapping.segmentation_image_combined[index], alpha=0.4, visualize=True)"
   ],
   "metadata": {
    "collapsed": false
   }
  },
  {
   "cell_type": "code",
   "execution_count": null,
   "outputs": [],
   "source": [
    "image = mapping.image\n",
    "segmentation = mapping.segmentation_image_combined\n",
    "\n",
    "visualize_alpha_fusion(MIP_sagittal_plane(img_dcm=image), MIP_sagittal_plane(segmentation), alpha=0.5, aspect=3, visualize=True)\n",
    "\n",
    "rotated_img = rotate_on_axial_plane(image, 90)\n",
    "rotated_seg = rotate_on_axial_plane(segmentation, 90)\n",
    "\n",
    "visualize_alpha_fusion(MIP_sagittal_plane(img_dcm=rotated_img), MIP_sagittal_plane(rotated_seg), alpha=0.5, aspect=3, visualize=True)\n",
    "\n",
    "print(image.shape)\n",
    "print(segmentation.shape)"
   ],
   "metadata": {
    "collapsed": false
   }
  },
  {
   "cell_type": "code",
   "execution_count": null,
   "outputs": [],
   "source": [
    "fig, ax = plt.subplots()\n",
    "cm = matplotlib.colormaps.get_cmap('bone')\n",
    "\n",
    "alpha = 0.5\n",
    "n = 36\n",
    "projections = []\n",
    "slice_thickness = 2.5\n",
    "pixel_spacing = [0.742188, 0.742188]\n",
    "\n",
    "for i, angle in tqdm(enumerate(np.linspace(0, 360*(n-1)/n, num=n))):\n",
    "    # Clear the current axes before plotting the next frame\n",
    "    ax.clear()\n",
    "\n",
    "    rotated_img = rotate_on_axial_plane(mapping.image, angle)\n",
    "    rotated_seg = rotate_on_axial_plane(mapping.segmentation_image_combined, angle)\n",
    "\n",
    "    projection_img = MIP_sagittal_plane(rotated_img)\n",
    "    projection_seg = MIP_sagittal_plane(rotated_seg)\n",
    "\n",
    "    projection = visualize_alpha_fusion(projection_img, projection_seg, alpha, visualize=False)\n",
    "    ax.imshow(projection, aspect=slice_thickness / pixel_spacing[0], cmap=cm)\n",
    "    plt.savefig(f'./projections/Projection_{i}.png')  # Save each frame as an image\n",
    "    projections.append(projection)  # Save for later animation\n",
    "\n",
    "fig, ax = plt.subplots()\n",
    "\n",
    "animation_data = [\n",
    "    [plt.imshow(img, animated=True, aspect=slice_thickness / pixel_spacing[0], cmap=cm)]\n",
    "    for img in projections\n",
    "]\n",
    "anim = animation.ArtistAnimation(fig, animation_data, interval=250, blit=True, repeat_delay=1000)\n",
    "anim.save('./animations/animation10.gif')  # Save animation\n",
    "plt.show()  # Show animation\n"
   ],
   "metadata": {
    "collapsed": false
   }
  },
  {
   "cell_type": "code",
   "execution_count": null,
   "outputs": [],
   "source": [],
   "metadata": {
    "collapsed": false
   }
  }
 ],
 "metadata": {
  "kernelspec": {
   "display_name": "Python 3",
   "language": "python",
   "name": "python3"
  },
  "language_info": {
   "codemirror_mode": {
    "name": "ipython",
    "version": 2
   },
   "file_extension": ".py",
   "mimetype": "text/x-python",
   "name": "python",
   "nbconvert_exporter": "python",
   "pygments_lexer": "ipython2",
   "version": "2.7.6"
  }
 },
 "nbformat": 4,
 "nbformat_minor": 0
}
